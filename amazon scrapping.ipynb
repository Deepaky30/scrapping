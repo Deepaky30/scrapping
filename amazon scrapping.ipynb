{
 "cells": [
  {
   "cell_type": "code",
   "execution_count": 30,
   "id": "5f7c62e8",
   "metadata": {},
   "outputs": [],
   "source": [
    "from autoscraper import AutoScraper"
   ]
  },
  {
   "cell_type": "code",
   "execution_count": 54,
   "id": "871d6561",
   "metadata": {},
   "outputs": [],
   "source": [
    "x=\"https://www.amazon.in/s?k=i+phones&ref=nb_sb_noss_2\""
   ]
  },
  {
   "cell_type": "code",
   "execution_count": 55,
   "id": "70f830d4",
   "metadata": {},
   "outputs": [],
   "source": [
    "wanted_list=['New Apple iPhone 12 Mini (128GB) - Black','₹68,500',' 4,502'] "
   ]
  },
  {
   "cell_type": "code",
   "execution_count": 56,
   "id": "09558547",
   "metadata": {},
   "outputs": [
    {
     "name": "stdout",
     "output_type": "stream",
     "text": [
      "['New Apple iPhone 12 Mini (128GB) - Black', 'New Apple iPhone 12 (64GB) - White', 'New Apple iPhone 12 Mini (64GB) - Black', 'New Apple iPhone 12 Pro Max (128GB) - Pacific Blue', 'New Apple iPhone 12 Mini (64GB) - Purple', 'New Apple iPhone 12 Pro (128GB) - Gold', 'New Apple iPhone 12 (64GB) - Blue', 'New Apple iPhone 12 Pro (128GB) - Pacific Blue', 'New Apple iPhone 12 (128GB) - Purple', 'New Apple iPhone 12 Pro Max (256GB) - Gold', 'New Apple iPhone 12 (64GB) - Black', 'New Apple iPhone 12 (128GB) - Black', 'New Apple iPhone 12 (64GB) - Green', 'New Apple iPhone 12 (128GB) - White', 'New Apple iPhone 11 (128GB) - Purple', '₹68,500', '₹74,900', '₹70,900', '₹79,900', '₹63,900', '₹69,900', '₹1,23,400', '₹1,29,900', '₹62,899', '₹1,13,905', '₹1,19,900', '₹72,900', '₹79,899', '₹84,900', '₹1,39,899', '₹1,39,900', '₹71,900', '₹80,650', '₹59,900', '4,502', '3,763', '790', '335', '32,796']\n"
     ]
    }
   ],
   "source": [
    "scraper=AutoScraper()\n",
    "result=scraper.build(x,wanted_list)\n",
    "print(result)"
   ]
  },
  {
   "cell_type": "code",
   "execution_count": 57,
   "id": "a0b5df12",
   "metadata": {},
   "outputs": [
    {
     "data": {
      "text/plain": [
       "{'rule_zf9l': ['New Apple iPhone 12 Mini (128GB) - Black',\n",
       "  'New Apple iPhone 12 (64GB) - White',\n",
       "  'New Apple iPhone 12 Mini (64GB) - Black',\n",
       "  'New Apple iPhone 12 Pro (128GB) - Pacific Blue',\n",
       "  'New Apple iPhone 12 Pro (128GB) - Gold',\n",
       "  'New Apple iPhone 12 Pro Max (128GB) - Pacific Blue',\n",
       "  'New Apple iPhone 12 (128GB) - Purple',\n",
       "  'New Apple iPhone 12 (128GB) - Black',\n",
       "  'New Apple iPhone 12 (64GB) - Black',\n",
       "  'New Apple iPhone 12 (64GB) - Blue',\n",
       "  'New Apple iPhone 12 Mini (64GB) - Purple',\n",
       "  'New Apple iPhone 12 (128GB) - White',\n",
       "  'New Apple iPhone 12 Mini (128GB) - Blue',\n",
       "  'New Apple iPhone 11 (128GB) - Purple',\n",
       "  'New Apple iPhone 12 (64GB) - Green'],\n",
       " 'rule_e8lj': ['New Apple iPhone 12 Mini (128GB) - Black',\n",
       "  'New Apple iPhone 12 (64GB) - White',\n",
       "  'New Apple iPhone 12 Mini (64GB) - Black',\n",
       "  'New Apple iPhone 12 Pro (128GB) - Pacific Blue',\n",
       "  'New Apple iPhone 12 Pro (128GB) - Gold',\n",
       "  'New Apple iPhone 12 Pro Max (128GB) - Pacific Blue',\n",
       "  'New Apple iPhone 12 (128GB) - Purple',\n",
       "  'New Apple iPhone 12 (128GB) - Black',\n",
       "  'New Apple iPhone 12 (64GB) - Black',\n",
       "  'New Apple iPhone 12 (64GB) - Blue',\n",
       "  'New Apple iPhone 12 Mini (64GB) - Purple',\n",
       "  'New Apple iPhone 12 (128GB) - White',\n",
       "  'New Apple iPhone 12 Mini (128GB) - Blue',\n",
       "  'New Apple iPhone 11 (128GB) - Purple',\n",
       "  'New Apple iPhone 12 (64GB) - Green'],\n",
       " 'rule_8tv0': ['₹68,500',\n",
       "  '₹74,900',\n",
       "  '₹70,900',\n",
       "  '₹79,900',\n",
       "  '₹63,900',\n",
       "  '₹69,900',\n",
       "  '₹1,13,905',\n",
       "  '₹1,19,900',\n",
       "  '₹1,13,905',\n",
       "  '₹1,19,900',\n",
       "  '₹1,23,400',\n",
       "  '₹1,29,900',\n",
       "  '₹79,899',\n",
       "  '₹84,900',\n",
       "  '₹79,899',\n",
       "  '₹84,900',\n",
       "  '₹71,900',\n",
       "  '₹79,900',\n",
       "  '₹72,900',\n",
       "  '₹79,900',\n",
       "  '₹62,899',\n",
       "  '₹69,900',\n",
       "  '₹80,650',\n",
       "  '₹84,900',\n",
       "  '₹70,900',\n",
       "  '₹74,900',\n",
       "  '₹59,900',\n",
       "  '₹71,900',\n",
       "  '₹79,900'],\n",
       " 'rule_vwyn': ['₹68,500',\n",
       "  '₹74,900',\n",
       "  '₹70,900',\n",
       "  '₹79,900',\n",
       "  '₹63,900',\n",
       "  '₹69,900',\n",
       "  '₹1,13,905',\n",
       "  '₹1,19,900',\n",
       "  '₹1,13,905',\n",
       "  '₹1,19,900',\n",
       "  '₹1,23,400',\n",
       "  '₹1,29,900',\n",
       "  '₹79,899',\n",
       "  '₹84,900',\n",
       "  '₹79,899',\n",
       "  '₹84,900',\n",
       "  '₹71,900',\n",
       "  '₹79,900',\n",
       "  '₹72,900',\n",
       "  '₹79,900',\n",
       "  '₹62,899',\n",
       "  '₹69,900',\n",
       "  '₹80,650',\n",
       "  '₹84,900',\n",
       "  '₹70,900',\n",
       "  '₹74,900',\n",
       "  '₹59,900',\n",
       "  '₹71,900',\n",
       "  '₹79,900'],\n",
       " 'rule_lys8': ['4,502',\n",
       "  '3,763',\n",
       "  '4,502',\n",
       "  '335',\n",
       "  '335',\n",
       "  '790',\n",
       "  '3,763',\n",
       "  '3,763',\n",
       "  '3,763',\n",
       "  '3,763',\n",
       "  '4,502',\n",
       "  '3,763',\n",
       "  '4,502',\n",
       "  '32,796',\n",
       "  '3,763'],\n",
       " 'rule_ejhn': ['4,502',\n",
       "  '3,763',\n",
       "  '4,502',\n",
       "  '335',\n",
       "  '335',\n",
       "  '790',\n",
       "  '3,763',\n",
       "  '3,763',\n",
       "  '3,763',\n",
       "  '3,763',\n",
       "  '4,502',\n",
       "  '3,763',\n",
       "  '4,502',\n",
       "  '32,796',\n",
       "  '3,763'],\n",
       " 'rule_kpa3': ['4,502',\n",
       "  '3,763',\n",
       "  '4,502',\n",
       "  '335',\n",
       "  '335',\n",
       "  '790',\n",
       "  '3,763',\n",
       "  '3,763',\n",
       "  '3,763',\n",
       "  '3,763',\n",
       "  '4,502',\n",
       "  '3,763',\n",
       "  '4,502',\n",
       "  '32,796',\n",
       "  '3,763']}"
      ]
     },
     "execution_count": 57,
     "metadata": {},
     "output_type": "execute_result"
    }
   ],
   "source": [
    "scraper.get_result_similar(x,grouped=True)"
   ]
  },
  {
   "cell_type": "code",
   "execution_count": 58,
   "id": "86c3848b",
   "metadata": {},
   "outputs": [],
   "source": [
    "scraper.set_rule_aliases({'rule_zf9l':'Title','rule_8tv0':'Price','rule_lys8':'Title'})\n",
    "scraper.keep_rules(['rule_zf9l','rule_8tv0','rule_lys8'])\n",
    "scraper.save('amazon-search')"
   ]
  },
  {
   "cell_type": "code",
   "execution_count": 59,
   "id": "51d96b53",
   "metadata": {},
   "outputs": [],
   "source": [
    "scraper.load('amazon-search')"
   ]
  },
  {
   "cell_type": "code",
   "execution_count": 60,
   "id": "bf159382",
   "metadata": {},
   "outputs": [],
   "source": [
    "amazon=scraper.get_result_similar('https://www.amazon.in/s?k=mi+phones&ref=nb_sb_noss_2',group_by_alias=True) "
   ]
  },
  {
   "cell_type": "code",
   "execution_count": 62,
   "id": "b401e46f",
   "metadata": {},
   "outputs": [
    {
     "data": {
      "text/plain": [
       "['₹8,999',\n",
       " '₹10,999',\n",
       " '₹6,999',\n",
       " '₹8,499',\n",
       " '₹10,999',\n",
       " '₹13,999',\n",
       " '₹10,999',\n",
       " '₹14,999',\n",
       " '₹10,999',\n",
       " '₹14,999',\n",
       " '₹14,999',\n",
       " '₹17,999',\n",
       " '₹12,999',\n",
       " '₹15,999',\n",
       " '₹8,999',\n",
       " '₹10,999',\n",
       " '₹12,999',\n",
       " '₹15,999',\n",
       " '₹6,999',\n",
       " '₹8,499',\n",
       " '₹7,499',\n",
       " '₹9,499',\n",
       " '₹6,999',\n",
       " '₹8,499',\n",
       " '₹16,999',\n",
       " '₹18,999',\n",
       " '₹21,999',\n",
       " '₹24,999',\n",
       " '₹21,999',\n",
       " '₹24,999',\n",
       " '₹7,499']"
      ]
     },
     "execution_count": 62,
     "metadata": {},
     "output_type": "execute_result"
    }
   ],
   "source": [
    "amazon['Price']"
   ]
  },
  {
   "cell_type": "code",
   "execution_count": null,
   "id": "37fbaea4",
   "metadata": {},
   "outputs": [],
   "source": []
  }
 ],
 "metadata": {
  "kernelspec": {
   "display_name": "Python 3",
   "language": "python",
   "name": "python3"
  },
  "language_info": {
   "codemirror_mode": {
    "name": "ipython",
    "version": 3
   },
   "file_extension": ".py",
   "mimetype": "text/x-python",
   "name": "python",
   "nbconvert_exporter": "python",
   "pygments_lexer": "ipython3",
   "version": "3.9.2"
  }
 },
 "nbformat": 4,
 "nbformat_minor": 5
}
